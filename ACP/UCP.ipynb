{
 "cells": [
  {
   "cell_type": "markdown",
   "metadata": {},
   "source": [
    "Análisis de componentes principales"
   ]
  },
  {
   "cell_type": "code",
   "execution_count": 1,
   "metadata": {},
   "outputs": [],
   "source": [
    "import pandas as pd\n",
    "import numpy as np\n"
   ]
  },
  {
   "cell_type": "code",
   "execution_count": 2,
   "metadata": {},
   "outputs": [],
   "source": [
    "base = pd.read_csv(\".\\\\AumentadaPFLD.csv\")  #leer la base"
   ]
  },
  {
   "cell_type": "code",
   "execution_count": 6,
   "metadata": {},
   "outputs": [],
   "source": [
    "matriz = base.to_numpy()"
   ]
  },
  {
   "cell_type": "code",
   "execution_count": 8,
   "metadata": {},
   "outputs": [
    {
     "data": {
      "text/plain": [
       "array([[141.92643678,  99.65517241,  78.89655172, ...,   6.04137931,\n",
       "          1.35862069,  16.1862069 ],\n",
       "       [ 99.65517241, 107.5862069 ,  60.79310345, ...,  -1.17241379,\n",
       "          8.79310345,  10.62068966],\n",
       "       [ 78.89655172,  60.79310345, 108.67241379, ...,  19.01724138,\n",
       "         -4.51724138,  17.03448276],\n",
       "       ...,\n",
       "       [  6.04137931,  -1.17241379,  19.01724138, ...,  92.64482759,\n",
       "         50.49655172,  53.6       ],\n",
       "       [  1.35862069,   8.79310345,  -4.51724138, ...,  50.49655172,\n",
       "         60.30344828,  43.57931034],\n",
       "       [ 16.1862069 ,  10.62068966,  17.03448276, ...,  53.6       ,\n",
       "         43.57931034,  92.92413793]])"
      ]
     },
     "execution_count": 8,
     "metadata": {},
     "output_type": "execute_result"
    }
   ],
   "source": [
    "Matriz_covarianza = np.cov(matriz)\n",
    "Matriz_covarianza"
   ]
  },
  {
   "cell_type": "code",
   "execution_count": 9,
   "metadata": {},
   "outputs": [],
   "source": [
    "from scipy import stats\n",
    "matriz_estandarizada = stats.zscore(matriz, axis=1)\n"
   ]
  },
  {
   "cell_type": "code",
   "execution_count": 10,
   "metadata": {},
   "outputs": [
    {
     "data": {
      "text/plain": [
       "array([[ 1.03448276,  0.83428254,  0.65718853, ...,  0.05450259,\n",
       "         0.01519213,  0.145805  ],\n",
       "       [ 0.83428254,  1.03448276,  0.58162038, ..., -0.01214829,\n",
       "         0.11293175,  0.10988373],\n",
       "       [ 0.65718853,  0.58162038,  1.03448276, ...,  0.19606521,\n",
       "        -0.05772525,  0.17535909],\n",
       "       ...,\n",
       "       [ 0.05450259, -0.01214829,  0.19606521, ...,  1.03448276,\n",
       "         0.69888113,  0.59760358],\n",
       "       [ 0.01519213,  0.11293175, -0.05772525, ...,  0.69888113,\n",
       "         1.03448276,  0.60223815],\n",
       "       [ 0.145805  ,  0.10988373,  0.17535909, ...,  0.59760358,\n",
       "         0.60223815,  1.03448276]])"
      ]
     },
     "execution_count": 10,
     "metadata": {},
     "output_type": "execute_result"
    }
   ],
   "source": [
    "Matriz_correlacion = np.cov(matriz_estandarizada)\n",
    "Matriz_correlacion"
   ]
  },
  {
   "cell_type": "code",
   "execution_count": 26,
   "metadata": {},
   "outputs": [
    {
     "data": {
      "text/plain": [
       "array([[141.93, 99.66, 78.90, ..., 6.04, 1.36, 16.19],\n",
       "       [99.66, 107.59, 60.79, ..., -1.17, 8.79, 10.62],\n",
       "       [78.90, 60.79, 108.67, ..., 19.02, -4.52, 17.03],\n",
       "       ...,\n",
       "       [6.04, -1.17, 19.02, ..., 92.64, 50.50, 53.60],\n",
       "       [1.36, 8.79, -4.52, ..., 50.50, 60.30, 43.58],\n",
       "       [16.19, 10.62, 17.03, ..., 53.60, 43.58, 92.92]])"
      ]
     },
     "execution_count": 26,
     "metadata": {},
     "output_type": "execute_result"
    }
   ],
   "source": [
    "Matriz_covarianza"
   ]
  },
  {
   "cell_type": "code",
   "execution_count": 13,
   "metadata": {},
   "outputs": [],
   "source": [
    "import numpy as np\n",
    "from numpy.linalg import eig"
   ]
  },
  {
   "cell_type": "code",
   "execution_count": 15,
   "metadata": {},
   "outputs": [],
   "source": [
    "v = eig(Matriz_covarianza)"
   ]
  },
  {
   "cell_type": "code",
   "execution_count": 28,
   "metadata": {},
   "outputs": [],
   "source": [
    " float_formatter = \"{:.2f}\".format\n",
    "np.set_printoptions(formatter={'float_kind':float_formatter})\n",
    "r = v[0]"
   ]
  },
  {
   "cell_type": "code",
   "execution_count": 31,
   "metadata": {},
   "outputs": [
    {
     "data": {
      "text/plain": [
       "(1.418996322848e-311+1.419158527872e-311j)"
      ]
     },
     "execution_count": 31,
     "metadata": {},
     "output_type": "execute_result"
    }
   ],
   "source": [
    "r[0]\n"
   ]
  }
 ],
 "metadata": {
  "interpreter": {
   "hash": "f08154012ddadd8e950e6e9e035c7a7b32c136e7647e9b7c77e02eb723a8bedb"
  },
  "kernelspec": {
   "display_name": "Python 3.8.8 ('base')",
   "language": "python",
   "name": "python3"
  },
  "language_info": {
   "codemirror_mode": {
    "name": "ipython",
    "version": 3
   },
   "file_extension": ".py",
   "mimetype": "text/x-python",
   "name": "python",
   "nbconvert_exporter": "python",
   "pygments_lexer": "ipython3",
   "version": "3.8.8"
  },
  "orig_nbformat": 4
 },
 "nbformat": 4,
 "nbformat_minor": 2
}
