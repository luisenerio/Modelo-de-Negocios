{
 "cells": [
  {
   "cell_type": "markdown",
   "metadata": {},
   "source": [
    "Análisis de componentes principales"
   ]
  },
  {
   "cell_type": "code",
   "execution_count": 1,
   "metadata": {},
   "outputs": [],
   "source": [
    "import pandas as pd\n",
    "import numpy as np\n"
   ]
  },
  {
   "cell_type": "code",
   "execution_count": 2,
   "metadata": {},
   "outputs": [],
   "source": [
    "base = pd.read_csv(\".\\\\AumentadaPFLD.csv\")  #leer la base"
   ]
  },
  {
   "cell_type": "code",
   "execution_count": 6,
   "metadata": {},
   "outputs": [],
   "source": [
    "matriz = base.to_numpy()"
   ]
  },
  {
   "cell_type": "code",
   "execution_count": 8,
   "metadata": {},
   "outputs": [
    {
     "data": {
      "text/plain": [
       "array([[141.92643678,  99.65517241,  78.89655172, ...,   6.04137931,\n",
       "          1.35862069,  16.1862069 ],\n",
       "       [ 99.65517241, 107.5862069 ,  60.79310345, ...,  -1.17241379,\n",
       "          8.79310345,  10.62068966],\n",
       "       [ 78.89655172,  60.79310345, 108.67241379, ...,  19.01724138,\n",
       "         -4.51724138,  17.03448276],\n",
       "       ...,\n",
       "       [  6.04137931,  -1.17241379,  19.01724138, ...,  92.64482759,\n",
       "         50.49655172,  53.6       ],\n",
       "       [  1.35862069,   8.79310345,  -4.51724138, ...,  50.49655172,\n",
       "         60.30344828,  43.57931034],\n",
       "       [ 16.1862069 ,  10.62068966,  17.03448276, ...,  53.6       ,\n",
       "         43.57931034,  92.92413793]])"
      ]
     },
     "execution_count": 8,
     "metadata": {},
     "output_type": "execute_result"
    }
   ],
   "source": [
    "Matriz_covarianza = np.cov(matriz)\n",
    "Matriz_covarianza"
   ]
  },
  {
   "cell_type": "code",
   "execution_count": 9,
   "metadata": {},
   "outputs": [],
   "source": [
    "from scipy import stats\n",
    "matriz_estandarizada = stats.zscore(matriz, axis=1)\n"
   ]
  },
  {
   "cell_type": "code",
   "execution_count": 10,
   "metadata": {},
   "outputs": [
    {
     "data": {
      "text/plain": [
       "array([[ 1.03448276,  0.83428254,  0.65718853, ...,  0.05450259,\n",
       "         0.01519213,  0.145805  ],\n",
       "       [ 0.83428254,  1.03448276,  0.58162038, ..., -0.01214829,\n",
       "         0.11293175,  0.10988373],\n",
       "       [ 0.65718853,  0.58162038,  1.03448276, ...,  0.19606521,\n",
       "        -0.05772525,  0.17535909],\n",
       "       ...,\n",
       "       [ 0.05450259, -0.01214829,  0.19606521, ...,  1.03448276,\n",
       "         0.69888113,  0.59760358],\n",
       "       [ 0.01519213,  0.11293175, -0.05772525, ...,  0.69888113,\n",
       "         1.03448276,  0.60223815],\n",
       "       [ 0.145805  ,  0.10988373,  0.17535909, ...,  0.59760358,\n",
       "         0.60223815,  1.03448276]])"
      ]
     },
     "execution_count": 10,
     "metadata": {},
     "output_type": "execute_result"
    }
   ],
   "source": [
    "Matriz_correlacion = np.cov(matriz_estandarizada)\n",
    "Matriz_correlacion"
   ]
  },
  {
   "cell_type": "code",
   "execution_count": null,
   "metadata": {},
   "outputs": [],
   "source": []
  },
  {
   "cell_type": "code",
   "execution_count": 13,
   "metadata": {},
   "outputs": [],
   "source": [
    "import numpy as np\n",
    "from numpy.linalg import eig"
   ]
  },
  {
   "cell_type": "code",
   "execution_count": 15,
   "metadata": {},
   "outputs": [],
   "source": [
    "v = eig(Matriz_covarianza)"
   ]
  },
  {
   "cell_type": "code",
   "execution_count": 19,
   "metadata": {},
   "outputs": [
    {
     "data": {
      "text/plain": [
       "array([1.41899632e-311+1.41915853e-311j, 3.00000000e+001+3.00000000e+001j,\n",
       "       3.00000000e+001+3.00000000e+001j, ...,\n",
       "       0.00000000e+000+0.00000000e+000j, 0.00000000e+000+0.00000000e+000j,\n",
       "       0.00000000e+000+0.00000000e+000j])"
      ]
     },
     "execution_count": 19,
     "metadata": {},
     "output_type": "execute_result"
    }
   ],
   "source": [
    "v[0]"
   ]
  }
 ],
 "metadata": {
  "interpreter": {
   "hash": "f08154012ddadd8e950e6e9e035c7a7b32c136e7647e9b7c77e02eb723a8bedb"
  },
  "kernelspec": {
   "display_name": "Python 3.8.8 ('base')",
   "language": "python",
   "name": "python3"
  },
  "language_info": {
   "codemirror_mode": {
    "name": "ipython",
    "version": 3
   },
   "file_extension": ".py",
   "mimetype": "text/x-python",
   "name": "python",
   "nbconvert_exporter": "python",
   "pygments_lexer": "ipython3",
   "version": "3.8.8"
  },
  "orig_nbformat": 4
 },
 "nbformat": 4,
 "nbformat_minor": 2
}
