{
 "cells": [
  {
   "cell_type": "markdown",
   "metadata": {},
   "source": [
    "## Librerias a utilizar"
   ]
  },
  {
   "cell_type": "code",
   "execution_count": 118,
   "metadata": {},
   "outputs": [],
   "source": [
    "import pandas as pd\n",
    "import numpy as np\n",
    "from itertools import combinations"
   ]
  },
  {
   "cell_type": "markdown",
   "metadata": {},
   "source": [
    "Lectura de la base"
   ]
  },
  {
   "cell_type": "code",
   "execution_count": 113,
   "metadata": {},
   "outputs": [],
   "source": [
    "base = pd.read_csv(\".\\\\BI.csv\",dtype = {'ClientID':'str'})  #leer la base\n",
    "#base.dtypes\n",
    "\n",
    "##Crear tres variables\n",
    "#Movimiento todos igual a 1\n",
    "#In 1 si el movimiento fue de alta, 0 de otra manera\n",
    "#Out 1 si el movimiento fue de baja, 0 de otra manera\n",
    "base = base.assign(MOVIMIENTO = 1) \n",
    "base['IN'] = np.where(base.MOVEMENT=='in', 1,0)\n",
    "base['OUT'] = np.where(base.MOVEMENT == 'out', 1, 0)\n",
    "base = base[base.ClientID != '442030']"
   ]
  },
  {
   "cell_type": "code",
   "execution_count": 114,
   "metadata": {},
   "outputs": [],
   "source": [
    "base_agrupada = base.groupby('ClientID') #agrupas baser por cliente\n",
    "movimientos_cliente = base_agrupada[['MOVIMIENTO','IN', 'OUT']].sum() #calcular el numero de movimientos, altas y bajas hechas por cada cliente\n",
    "movimientos_cliente.reset_index()                                       #resetear el indice\n",
    "movimientos_cliente.sort_values(['MOVIMIENTO'], ascending=False, inplace= True)#ordenar de mayor a menor\n",
    "movimientos_cliente = movimientos_cliente[movimientos_cliente.MOVIMIENTO>2]#filtrar por clientes con 3 o más movimientos\n",
    "movimientos_cliente['ClientID'] = movimientos_cliente.index#crear la variable ClienteID a partir del indice\n",
    "clientes = movimientos_cliente.ClientID #guardar los clientes con mas de 2 movimientos\n",
    "clientes = list(clientes) #guardar como lista a los clientes con más de 2 movimientos"
   ]
  },
  {
   "cell_type": "code",
   "execution_count": 115,
   "metadata": {},
   "outputs": [],
   "source": [
    "base_filtrada = base[base.ClientID.isin(clientes)] #filtar la base original por los clientes con más de 2 movimientos\n",
    "\n",
    "#Clientes_unicos = base_filtrada.ClientID.unique()\n",
    "#base_filtrada.ClientID.value_counts()"
   ]
  },
  {
   "cell_type": "code",
   "execution_count": 190,
   "metadata": {},
   "outputs": [],
   "source": [
    "aristas = []\n",
    "for cliente in clientes:\n",
    "    base_filtrada2 = base_filtrada[base_filtrada.ClientID==cliente]\n",
    "    #print(cliente)\n",
    "    #print(len(base_filtrada2))\n",
    "    lista_agentid = base_filtrada2['AGENT ID']\n",
    "    lista_agentid =list(set(lista_agentid))\n",
    "    #print(lista_agentid)\n",
    "    lista_combinaciones = list(combinations(lista_agentid,2))\n",
    "    for elemento in lista_combinaciones:\n",
    "        aristas.append(elemento)\n",
    "\n"
   ]
  },
  {
   "cell_type": "code",
   "execution_count": 203,
   "metadata": {},
   "outputs": [
    {
     "data": {
      "text/plain": [
       "1571"
      ]
     },
     "execution_count": 203,
     "metadata": {},
     "output_type": "execute_result"
    }
   ],
   "source": [
    "len(aristas)"
   ]
  },
  {
   "cell_type": "code",
   "execution_count": 217,
   "metadata": {},
   "outputs": [],
   "source": [
    "aristas2=[]\n",
    "for arista in aristas:\n",
    "    arista_reverse = (arista[1], arista[0])\n",
    "    if arista in aristas2:\n",
    "        aristas2.append(arista)\n",
    "    elif arista_reverse in aristas2:\n",
    "        aristas2.append(arista_reverse)\n",
    "    else:\n",
    "        aristas2.append(arista)\n",
    "#aristas2\n"
   ]
  },
  {
   "cell_type": "code",
   "execution_count": 218,
   "metadata": {},
   "outputs": [],
   "source": [
    "diccionario = {}\n",
    "for arista in aristas2:\n",
    "    if arista in diccionario:\n",
    "        diccionario[arista]+=1\n",
    "    else:\n",
    "        diccionario[arista] = 1"
   ]
  }
 ],
 "metadata": {
  "interpreter": {
   "hash": "ca02d05c83cb06a4d3d1bb3c2ad95bd9ee4b26f688526444572dc942a69d580d"
  },
  "kernelspec": {
   "display_name": "Python 3.8.5 ('base')",
   "language": "python",
   "name": "python3"
  },
  "language_info": {
   "codemirror_mode": {
    "name": "ipython",
    "version": 3
   },
   "file_extension": ".py",
   "mimetype": "text/x-python",
   "name": "python",
   "nbconvert_exporter": "python",
   "pygments_lexer": "ipython3",
   "version": "3.8.8"
  },
  "orig_nbformat": 4
 },
 "nbformat": 4,
 "nbformat_minor": 2
}
