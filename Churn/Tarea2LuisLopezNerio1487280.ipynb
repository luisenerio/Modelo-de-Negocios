{
 "cells": [
  {
   "cell_type": "markdown",
   "metadata": {},
   "source": [
    "## Lectura de las bases"
   ]
  },
  {
   "cell_type": "code",
   "execution_count": 416,
   "metadata": {},
   "outputs": [],
   "source": [
    "import pandas as pd\n",
    "import seaborn as sns\n",
    "import matplotlib.pyplot as plt\n",
    "import seaborn as sns\n",
    "sns.set()\n",
    "from sklearn.compose import ColumnTransformer\n",
    "from sklearn.linear_model  import LogisticRegression\n",
    "from sklearn.preprocessing import StandardScaler\n",
    "from imblearn.pipeline import Pipeline\n",
    "from sklearn.model_selection import train_test_split\n",
    "from sklearn.metrics import confusion_matrix\n",
    "from sklearn.metrics import classification_report\n",
    "import numpy as np"
   ]
  },
  {
   "cell_type": "code",
   "execution_count": 395,
   "metadata": {},
   "outputs": [
    {
     "data": {
      "text/html": [
       "<div>\n",
       "<style scoped>\n",
       "    .dataframe tbody tr th:only-of-type {\n",
       "        vertical-align: middle;\n",
       "    }\n",
       "\n",
       "    .dataframe tbody tr th {\n",
       "        vertical-align: top;\n",
       "    }\n",
       "\n",
       "    .dataframe thead th {\n",
       "        text-align: right;\n",
       "    }\n",
       "</style>\n",
       "<table border=\"1\" class=\"dataframe\">\n",
       "  <thead>\n",
       "    <tr style=\"text-align: right;\">\n",
       "      <th></th>\n",
       "      <th>Retire Before 65 Years Old</th>\n",
       "      <th>Gender</th>\n",
       "      <th>Desease</th>\n",
       "      <th>Education Level</th>\n",
       "      <th>Marital Status</th>\n",
       "      <th>Monthly Income</th>\n",
       "      <th>Employee/Employer</th>\n",
       "      <th>Dependants</th>\n",
       "      <th>Unemployment Rate</th>\n",
       "      <th>Stock Market</th>\n",
       "      <th>Credit Score</th>\n",
       "      <th>Government Bonds Return</th>\n",
       "    </tr>\n",
       "  </thead>\n",
       "  <tbody>\n",
       "    <tr>\n",
       "      <th>0</th>\n",
       "      <td>1</td>\n",
       "      <td>1</td>\n",
       "      <td>1</td>\n",
       "      <td>3</td>\n",
       "      <td>0</td>\n",
       "      <td>18000</td>\n",
       "      <td>0</td>\n",
       "      <td>4</td>\n",
       "      <td>3.444876</td>\n",
       "      <td>24066.16667</td>\n",
       "      <td>699</td>\n",
       "      <td>7.715833</td>\n",
       "    </tr>\n",
       "    <tr>\n",
       "      <th>1</th>\n",
       "      <td>0</td>\n",
       "      <td>1</td>\n",
       "      <td>0</td>\n",
       "      <td>3</td>\n",
       "      <td>0</td>\n",
       "      <td>32000</td>\n",
       "      <td>0</td>\n",
       "      <td>1</td>\n",
       "      <td>5.023797</td>\n",
       "      <td>42063.16667</td>\n",
       "      <td>639</td>\n",
       "      <td>5.414833</td>\n",
       "    </tr>\n",
       "    <tr>\n",
       "      <th>2</th>\n",
       "      <td>0</td>\n",
       "      <td>1</td>\n",
       "      <td>1</td>\n",
       "      <td>4</td>\n",
       "      <td>0</td>\n",
       "      <td>20000</td>\n",
       "      <td>0</td>\n",
       "      <td>2</td>\n",
       "      <td>5.355220</td>\n",
       "      <td>30100.50000</td>\n",
       "      <td>610</td>\n",
       "      <td>7.962750</td>\n",
       "    </tr>\n",
       "    <tr>\n",
       "      <th>3</th>\n",
       "      <td>0</td>\n",
       "      <td>0</td>\n",
       "      <td>1</td>\n",
       "      <td>4</td>\n",
       "      <td>1</td>\n",
       "      <td>35000</td>\n",
       "      <td>1</td>\n",
       "      <td>1</td>\n",
       "      <td>3.843570</td>\n",
       "      <td>24066.16667</td>\n",
       "      <td>649</td>\n",
       "      <td>7.715833</td>\n",
       "    </tr>\n",
       "    <tr>\n",
       "      <th>4</th>\n",
       "      <td>0</td>\n",
       "      <td>0</td>\n",
       "      <td>1</td>\n",
       "      <td>3</td>\n",
       "      <td>0</td>\n",
       "      <td>27000</td>\n",
       "      <td>0</td>\n",
       "      <td>1</td>\n",
       "      <td>4.949226</td>\n",
       "      <td>19439.00000</td>\n",
       "      <td>638</td>\n",
       "      <td>8.024167</td>\n",
       "    </tr>\n",
       "  </tbody>\n",
       "</table>\n",
       "</div>"
      ],
      "text/plain": [
       "   Retire Before 65 Years Old  Gender  Desease  Education Level  \\\n",
       "0                           1       1        1                3   \n",
       "1                           0       1        0                3   \n",
       "2                           0       1        1                4   \n",
       "3                           0       0        1                4   \n",
       "4                           0       0        1                3   \n",
       "\n",
       "   Marital Status  Monthly Income  Employee/Employer  Dependants  \\\n",
       "0               0           18000                  0           4   \n",
       "1               0           32000                  0           1   \n",
       "2               0           20000                  0           2   \n",
       "3               1           35000                  1           1   \n",
       "4               0           27000                  0           1   \n",
       "\n",
       "   Unemployment Rate  Stock Market  Credit Score  Government Bonds Return  \n",
       "0           3.444876   24066.16667           699                 7.715833  \n",
       "1           5.023797   42063.16667           639                 5.414833  \n",
       "2           5.355220   30100.50000           610                 7.962750  \n",
       "3           3.843570   24066.16667           649                 7.715833  \n",
       "4           4.949226   19439.00000           638                 8.024167  "
      ]
     },
     "execution_count": 395,
     "metadata": {},
     "output_type": "execute_result"
    }
   ],
   "source": [
    "datos = pd.read_excel(\".\\\\EarlyRetirementPrediction.xlsx\")\n",
    "datos.head()"
   ]
  },
  {
   "cell_type": "markdown",
   "metadata": {},
   "source": [
    "No se tiene una base de datos debalanceada"
   ]
  },
  {
   "cell_type": "code",
   "execution_count": 396,
   "metadata": {},
   "outputs": [
    {
     "data": {
      "text/plain": [
       "<AxesSubplot:xlabel='Dependants', ylabel='count'>"
      ]
     },
     "execution_count": 396,
     "metadata": {},
     "output_type": "execute_result"
    },
    {
     "data": {
      "image/png": "[encoded data removed]",
      "text/plain": [
       "<Figure size 2160x360 with 7 Axes>"
      ]
     },
     "metadata": {},
     "output_type": "display_data"
    }
   ],
   "source": [
    "### Variables binarias countplot\n",
    "\n",
    "figs, axs = plt.subplots(1,7,figsize = (30,5),sharey=True)\n",
    "\n",
    "figs.suptitle('Gráficas de figuras categoricas')\n",
    "sns.countplot(ax=axs[0],data= datos,x =\"Retire Before 65 Years Old\")\n",
    "sns.countplot(ax=axs[1],data= datos,x =\"Gender\")\n",
    "sns.countplot(ax= axs[2],data = datos, x= \"Desease\")\n",
    "sns.countplot(ax= axs[3],data= datos, x='Education Level')\n",
    "sns.countplot(ax=axs[4], data = datos, x='Marital Status')\n",
    "sns.countplot(ax= axs[5], data= datos, x=\"Employee/Employer\")\n",
    "sns.countplot(ax=axs[6], data = datos, x = \"Dependants\")\n",
    "\n"
   ]
  },
  {
   "cell_type": "code",
   "execution_count": 397,
   "metadata": {},
   "outputs": [
    {
     "data": {
      "text/plain": [
       "<AxesSubplot:xlabel='Government Bonds Return', ylabel='Count'>"
      ]
     },
     "execution_count": 397,
     "metadata": {},
     "output_type": "execute_result"
    },
    {
     "data": {
      "image/png": "[encoded data removed]",
      "text/plain": [
       "<Figure size 2520x360 with 5 Axes>"
      ]
     },
     "metadata": {},
     "output_type": "display_data"
    }
   ],
   "source": [
    "figs, axs = plt.subplots(1,5,figsize = (35,5), sharey= True)\n",
    "figs.suptitle('Histogramas de varibales continuas')\n",
    "sns.histplot(data = datos, x = 'Monthly Income',ax = axs[0],alpha=.9,color = \"#C33149\")\n",
    "sns.histplot(data = datos, x = 'Unemployment Rate', ax = axs[1],color = \"#304D6D\", alpha = .9)\n",
    "sns.histplot(data = datos, x = 'Stock Market', ax = axs[2],color = \"#EDAE49\", alpha = .9)\n",
    "sns.histplot(data = datos, x = 'Credit Score', ax = axs[3],color = \"#66155B\", alpha = .9)\n",
    "sns.histplot(data = datos, x = 'Government Bonds Return', ax = axs[4], color = '#515F45', alpha = .9)"
   ]
  },
  {
   "cell_type": "markdown",
   "metadata": {},
   "source": [
    "## Separacion en X y Y\n"
   ]
  },
  {
   "cell_type": "code",
   "execution_count": 398,
   "metadata": {},
   "outputs": [],
   "source": [
    "y = datos['Retire Before 65 Years Old']\n",
    "X = datos.drop('Retire Before 65 Years Old', axis = 1)\n",
    "\n"
   ]
  },
  {
   "cell_type": "markdown",
   "metadata": {},
   "source": [
    "## Separación en test y entrenamiento"
   ]
  },
  {
   "cell_type": "code",
   "execution_count": 399,
   "metadata": {},
   "outputs": [],
   "source": [
    "X_train, X_test,  y_train, y_test = train_test_split(X, y, test_size = 1/3, random_state=50)\n"
   ]
  },
  {
   "cell_type": "code",
   "execution_count": 400,
   "metadata": {},
   "outputs": [],
   "source": [
    "Tuberia = Pipeline([('Escalar', StandardScaler()), \n",
    "                    ('Logistic', LogisticRegression())])"
   ]
  },
  {
   "cell_type": "code",
   "execution_count": 401,
   "metadata": {},
   "outputs": [
    {
     "data": {
      "text/plain": [
       "Pipeline(steps=[('Escalar', StandardScaler()),\n",
       "                ('Logistic', LogisticRegression())])"
      ]
     },
     "execution_count": 401,
     "metadata": {},
     "output_type": "execute_result"
    }
   ],
   "source": [
    "Tuberia.fit(X_train,y_train)"
   ]
  },
  {
   "cell_type": "code",
   "execution_count": 402,
   "metadata": {},
   "outputs": [],
   "source": [
    "prediccion =Tuberia.predict(X_test)"
   ]
  },
  {
   "cell_type": "code",
   "execution_count": 403,
   "metadata": {},
   "outputs": [],
   "source": [
    "prediccion_p = Tuberia.predict_proba(X_test)"
   ]
  },
  {
   "cell_type": "code",
   "execution_count": 404,
   "metadata": {},
   "outputs": [],
   "source": [
    "prediccion_DF = pd.DataFrame(prediccion,columns= ['Retire Before 65 Years Old Prediction'])\n",
    "prediccion_p_DF = pd.DataFrame(prediccion_p, columns = ['Prob of No Retirement', 'Prob of Retirement'])"
   ]
  },
  {
   "cell_type": "code",
   "execution_count": 405,
   "metadata": {},
   "outputs": [],
   "source": [
    "Predicciones = pd.concat([prediccion_DF, prediccion_p_DF], axis = 1)"
   ]
  },
  {
   "cell_type": "code",
   "execution_count": 406,
   "metadata": {},
   "outputs": [],
   "source": [
    "matriz_confusion = confusion_matrix(y_test,prediccion)"
   ]
  },
  {
   "cell_type": "code",
   "execution_count": 407,
   "metadata": {},
   "outputs": [
    {
     "name": "stdout",
     "output_type": "stream",
     "text": [
      "              precision    recall  f1-score   support\n",
      "\n",
      "           0       0.80      0.85      0.82       243\n",
      "           1       0.85      0.79      0.82       257\n",
      "\n",
      "    accuracy                           0.82       500\n",
      "   macro avg       0.82      0.82      0.82       500\n",
      "weighted avg       0.82      0.82      0.82       500\n",
      "\n"
     ]
    }
   ],
   "source": [
    "print(classification_report(y_test, prediccion, target_names=['0', '1']))"
   ]
  },
  {
   "cell_type": "code",
   "execution_count": 408,
   "metadata": {},
   "outputs": [
    {
     "data": {
      "text/plain": [
       "Text(0.5, 1.0, 'Matriz de Confusión - Regresión Logistica')"
      ]
     },
     "execution_count": 408,
     "metadata": {},
     "output_type": "execute_result"
    },
    {
     "data": {
      "image/png": "[encoded data removed]",
      "text/plain": [
       "<Figure size 432x288 with 2 Axes>"
      ]
     },
     "metadata": {},
     "output_type": "display_data"
    }
   ],
   "source": [
    "sns.heatmap(matriz_confusion,annot=True, cmap=\"YlOrBr\", fmt=\"d\", \n",
    "            xticklabels = ['No Retiro', 'Retiro'], \n",
    "            yticklabels = ['No Retiro', 'Retiro'])\n",
    "plt.ylabel('Etiqueta Real')\n",
    "plt.xlabel('Etiqueta Predecida')\n",
    "plt.title(\"Matriz de Confusión - Regresión Logistica\")"
   ]
  },
  {
   "cell_type": "code",
   "execution_count": 409,
   "metadata": {},
   "outputs": [],
   "source": [
    "X_test.reset_index(drop=True, inplace=True)\n",
    "y_test.reset_index(drop = True, inplace = True)\n",
    "Test = pd.concat([X_test, y_test, Predicciones ], axis = 1)"
   ]
  },
  {
   "cell_type": "code",
   "execution_count": 410,
   "metadata": {},
   "outputs": [],
   "source": [
    "Test.to_csv('.\\\\Test.csv')"
   ]
  },
  {
   "cell_type": "code",
   "execution_count": 417,
   "metadata": {},
   "outputs": [],
   "source": [
    "odds = np.exp(Tuberia[1].coef_[0])"
   ]
  },
  {
   "cell_type": "code",
   "execution_count": 418,
   "metadata": {},
   "outputs": [
    {
     "data": {
      "text/plain": [
       "Index(['Gender', 'Desease', 'Education Level', 'Marital Status',\n",
       "       'Monthly Income', 'Employee/Employer', 'Dependants',\n",
       "       'Unemployment Rate', 'Stock Market', 'Credit Score',\n",
       "       'Government Bonds Return'],\n",
       "      dtype='object')"
      ]
     },
     "execution_count": 418,
     "metadata": {},
     "output_type": "execute_result"
    }
   ],
   "source": [
    "X.columns"
   ]
  },
  {
   "cell_type": "code",
   "execution_count": 421,
   "metadata": {},
   "outputs": [
    {
     "data": {
      "text/html": [
       "<div>\n",
       "<style scoped>\n",
       "    .dataframe tbody tr th:only-of-type {\n",
       "        vertical-align: middle;\n",
       "    }\n",
       "\n",
       "    .dataframe tbody tr th {\n",
       "        vertical-align: top;\n",
       "    }\n",
       "\n",
       "    .dataframe thead th {\n",
       "        text-align: right;\n",
       "    }\n",
       "</style>\n",
       "<table border=\"1\" class=\"dataframe\">\n",
       "  <thead>\n",
       "    <tr style=\"text-align: right;\">\n",
       "      <th></th>\n",
       "      <th>coef</th>\n",
       "    </tr>\n",
       "  </thead>\n",
       "  <tbody>\n",
       "    <tr>\n",
       "      <th>Dependants</th>\n",
       "      <td>5.119606</td>\n",
       "    </tr>\n",
       "    <tr>\n",
       "      <th>Employee/Employer</th>\n",
       "      <td>1.457308</td>\n",
       "    </tr>\n",
       "    <tr>\n",
       "      <th>Gender</th>\n",
       "      <td>1.397844</td>\n",
       "    </tr>\n",
       "    <tr>\n",
       "      <th>Marital Status</th>\n",
       "      <td>1.274824</td>\n",
       "    </tr>\n",
       "    <tr>\n",
       "      <th>Government Bonds Return</th>\n",
       "      <td>1.102265</td>\n",
       "    </tr>\n",
       "    <tr>\n",
       "      <th>Stock Market</th>\n",
       "      <td>1.061081</td>\n",
       "    </tr>\n",
       "    <tr>\n",
       "      <th>Credit Score</th>\n",
       "      <td>0.950622</td>\n",
       "    </tr>\n",
       "    <tr>\n",
       "      <th>Education Level</th>\n",
       "      <td>0.851860</td>\n",
       "    </tr>\n",
       "    <tr>\n",
       "      <th>Unemployment Rate</th>\n",
       "      <td>0.833379</td>\n",
       "    </tr>\n",
       "    <tr>\n",
       "      <th>Desease</th>\n",
       "      <td>0.827792</td>\n",
       "    </tr>\n",
       "    <tr>\n",
       "      <th>Monthly Income</th>\n",
       "      <td>0.642874</td>\n",
       "    </tr>\n",
       "  </tbody>\n",
       "</table>\n",
       "</div>"
      ],
      "text/plain": [
       "                             coef\n",
       "Dependants               5.119606\n",
       "Employee/Employer        1.457308\n",
       "Gender                   1.397844\n",
       "Marital Status           1.274824\n",
       "Government Bonds Return  1.102265\n",
       "Stock Market             1.061081\n",
       "Credit Score             0.950622\n",
       "Education Level          0.851860\n",
       "Unemployment Rate        0.833379\n",
       "Desease                  0.827792\n",
       "Monthly Income           0.642874"
      ]
     },
     "execution_count": 421,
     "metadata": {},
     "output_type": "execute_result"
    }
   ],
   "source": [
    "pd.DataFrame(odds, X.columns,columns =['coef']).sort_values(by='coef',ascending=False)"
   ]
  }
 ],
 "metadata": {
  "interpreter": {
   "hash": "f08154012ddadd8e950e6e9e035c7a7b32c136e7647e9b7c77e02eb723a8bedb"
  },
  "kernelspec": {
   "display_name": "Python 3.8.8 ('base')",
   "language": "python",
   "name": "python3"
  },
  "language_info": {
   "codemirror_mode": {
    "name": "ipython",
    "version": 3
   },
   "file_extension": ".py",
   "mimetype": "text/x-python",
   "name": "python",
   "nbconvert_exporter": "python",
   "pygments_lexer": "ipython3",
   "version": "3.8.8"
  },
  "orig_nbformat": 4
 },
 "nbformat": 4,
 "nbformat_minor": 2
}
